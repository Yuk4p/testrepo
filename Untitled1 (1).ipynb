{
 "cells": [
  {
   "cell_type": "code",
   "execution_count": null,
   "metadata": {
    "ExecuteTime": {
     "start_time": "2021-03-05T23:09:30.557Z"
    }
   },
   "outputs": [],
   "source": [
    "import sympy as s\n",
    "import math as m\n",
    "from sympy import *\n",
    "n,t,k=symbols('n t k')\n",
    "r=((k-t+1)*(t-1))/(n-2*(k-t+1))\n",
    "a=diff(r,t)\n",
    "lina=solve(a*(log(t+2*r)-log(n-2*t-2*r)-log(4*t+4*r)+log(k-t-r)-log(2)+log(t+2*r)-log(r))+log(t+2*r)-log(n-2*(t+r))-log(4*t+4*r)+log(k-t-r)-log(2),t)\n",
    "lina"
   ]
  },
  {
   "cell_type": "code",
   "execution_count": null,
   "metadata": {},
   "outputs": [],
   "source": []
  }
 ],
 "metadata": {
  "kernelspec": {
   "display_name": "Python 3",
   "language": "python",
   "name": "python3"
  },
  "language_info": {
   "codemirror_mode": {
    "name": "ipython",
    "version": 3
   },
   "file_extension": ".py",
   "mimetype": "text/x-python",
   "name": "python",
   "nbconvert_exporter": "python",
   "pygments_lexer": "ipython3",
   "version": "3.8.5"
  }
 },
 "nbformat": 4,
 "nbformat_minor": 4
}
